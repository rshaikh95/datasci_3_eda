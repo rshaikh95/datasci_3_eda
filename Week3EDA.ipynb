{
  "nbformat": 4,
  "nbformat_minor": 0,
  "metadata": {
    "colab": {
      "provenance": [],
      "authorship_tag": "ABX9TyMOy+ssb+IXoP/rgy1rkWYT",
      "include_colab_link": true
    },
    "kernelspec": {
      "name": "python3",
      "display_name": "Python 3"
    },
    "language_info": {
      "name": "python"
    }
  },
  "cells": [
    {
      "cell_type": "markdown",
      "metadata": {
        "id": "view-in-github",
        "colab_type": "text"
      },
      "source": [
        "<a href=\"https://colab.research.google.com/github/rshaikh95/datasci_3_eda/blob/main/Week3EDA.ipynb\" target=\"_parent\"><img src=\"https://colab.research.google.com/assets/colab-badge.svg\" alt=\"Open In Colab\"/></a>"
      ]
    },
    {
      "cell_type": "markdown",
      "source": [
        "# Week 3 Exploratory Data Analysis (EDA)"
      ],
      "metadata": {
        "id": "FO4Rl6krevq2"
      }
    },
    {
      "cell_type": "markdown",
      "source": [
        "## Univariate Analysis\n",
        "### Mean, Mode, Median, Range, Variance, Standard Deviation, IQR of the number of beds in Hospital Cost Report of 2019"
      ],
      "metadata": {
        "id": "VHnxhjjfe-ND"
      }
    },
    {
      "cell_type": "code",
      "source": [
        "import pandas as pd\n",
        "import numpy as np\n",
        "df = pd.read_csv('https://raw.githubusercontent.com/hantswilliams/HHA_507_2023/main/WK2/data/Hospital_Cost_Report_2019.csv')\n",
        "\n",
        "\n",
        "# Fill missing number of beds values with 0\n",
        "df['Number of Beds'].fillna(0, inplace=True)\n",
        "\n",
        "# Calculate mean, median, and mode of number of beds\n",
        "meannumberbeds = df['Number of Beds'].mean()\n",
        "mediannumberbeds = df['Number of Beds'].median()\n",
        "modenumberbeds = df['Number of Beds'].mode().iloc[0]\n",
        "\n",
        "# Calculate variance and standard deviation for meannumberbeds\n",
        "variancenb = np.var(df['Number of Beds'])\n",
        "stddeviationnb = np.std(df['Number of Beds'])\n",
        "\n",
        "# Calculate percentiles for beds\n",
        "percentile25nb = np.percentile(df['Number of Beds'], 25)\n",
        "percentile75nb = np.percentile(df['Number of Beds'], 75)\n",
        "iqr = percentile75nb - percentile25nb\n",
        "# Calculate range for number of beds\n",
        "dfrangenb = df['Number of Beds'].max() - df['Number of Beds'].min()\n",
        "\n",
        "\n",
        "# Print results\n",
        "print(\"Mean Number of Beds\", meannumberbeds)\n",
        "print(\"Median Number of Beds\", mediannumberbeds)\n",
        "print(\"Mode Number of Beds\", modenumberbeds)\n",
        "print(\"Standard Deviation\", stddeviationnb)\n",
        "print(\"Variance\", variancenb)\n",
        "print(\"25th Percentile\", percentile25nb)\n",
        "print(\"75th Percentile\", percentile75nb)\n",
        "print(\"IQR\", iqr)\n",
        "print(\"Data Range\", dfrangenb)\n",
        "\n",
        "\n"
      ],
      "metadata": {
        "id": "Iwq_rNSPVT65"
      },
      "execution_count": null,
      "outputs": []
    },
    {
      "cell_type": "markdown",
      "source": [
        "## Histogram of Data"
      ],
      "metadata": {
        "id": "7pYbmimz9lzi"
      }
    },
    {
      "cell_type": "code",
      "source": [
        "\n",
        "import numpy as np\n",
        "import matplotlib.pyplot as plt\n",
        "\n",
        "num_samples = 1000  # Number of data points\n",
        "\n",
        "dfplot = np.random.normal(meannumberbeds, stddeviationnb, num_samples)\n",
        "\n",
        "# Create a histogram\n",
        "plt.hist(dfplot, bins=30, density=True, alpha=0.7, color='blue', label='Histogram')\n",
        "\n",
        "# Create a probability density function (PDF) curve\n",
        "x = np.linspace(min(dfplot), max(dfplot), 100)\n",
        "pdf = (1/(stddeviationnb * np.sqrt(2*np.pi))) * np.exp(-(x - meannumberbeds)**2 / (2*stddeviationnb**2))\n",
        "plt.plot(x, pdf, color='red', label='PDF')\n",
        "\n",
        "plt.title('Normal Distribution')\n",
        "plt.xlabel('Value')\n",
        "plt.ylabel('Probability Density')\n",
        "plt.legend()\n",
        "plt.grid(True)\n",
        "plt.show()\n",
        "\n"
      ],
      "metadata": {
        "id": "nA_fIQAN9th6"
      },
      "execution_count": null,
      "outputs": []
    },
    {
      "cell_type": "markdown",
      "source": [
        "# Bivariate Analysis"
      ],
      "metadata": {
        "id": "ifIrZxWY_87_"
      }
    },
    {
      "cell_type": "code",
      "source": [
        "import matplotlib.pyplot as plt\n",
        "import seaborn as sns\n",
        "\n",
        "numbeds = df['Number of Beds']\n",
        "df['Number of Beds'].fillna(0, inplace=True)\n",
        "# Scatter plot\n",
        "plt.figure(figsize=(8, 6))\n",
        "sns.scatterplot(x=range(len(numbeds)), y=numbeds)\n",
        "plt.xlabel(\"Patient\")\n",
        "plt.ylabel(\"Number of Beds\")\n",
        "plt.title(\"Scatter Plot of Number of Beds\")\n",
        "plt.show()"
      ],
      "metadata": {
        "id": "z7psDrNDAA3k"
      },
      "execution_count": null,
      "outputs": []
    },
    {
      "cell_type": "markdown",
      "source": [
        "# Handling Outliers\n",
        "## Removing Outliers based on threshold"
      ],
      "metadata": {
        "id": "jB_lJOa2H8Mp"
      }
    },
    {
      "cell_type": "code",
      "source": [
        "\n",
        "NumberBeds = df['Number of Beds']\n",
        "\n",
        "# Calculate quartiles and IQR\n",
        "percentile25nb = np.percentile(df['Number of Beds'], 25)\n",
        "percentile75nb = np.percentile(df['Number of Beds'], 75)\n",
        "iqr = percentile75nb - percentile25nb\n",
        "\n",
        "# Set threshold for outlier detection\n",
        "threshold_lower = percentile25nb - 100 * iqr\n",
        "threshold_upper = percentile75nb + 100 * iqr\n",
        "\n",
        "# Identify outliers\n",
        "outliers = [x for x in NumberBeds if x < threshold_lower or x > threshold_upper]\n",
        "\n",
        "print(\"Outliers:\", outliers)"
      ],
      "metadata": {
        "colab": {
          "base_uri": "https://localhost:8080/"
        },
        "id": "XTc6apFtIA2g",
        "outputId": "183eb9b8-cd0f-43c7-fd8d-17174a96ef6b"
      },
      "execution_count": 13,
      "outputs": [
        {
          "output_type": "stream",
          "name": "stdout",
          "text": [
            "Outliers: [52913.0, 28401.0]\n"
          ]
        }
      ]
    },
    {
      "cell_type": "code",
      "source": [
        "import pandas as pd\n",
        "\n",
        "\n",
        "# Define the threshold for outlier removal\n",
        "bedthreshold = 1000\n",
        "\n",
        "# Remove data points above the bed threshold\n",
        "df_cleaned = df[df['Number of Beds'] <= bedthreshold]\n",
        "\n",
        "df_cleaned['Number of Beds']\n"
      ],
      "metadata": {
        "colab": {
          "base_uri": "https://localhost:8080/"
        },
        "id": "kWhxRQEaKBao",
        "outputId": "fb036a55-710a-4fbc-cffe-4c0de6a7149f"
      },
      "execution_count": 14,
      "outputs": [
        {
          "output_type": "execute_result",
          "data": {
            "text/plain": [
              "0       120.0\n",
              "1        25.0\n",
              "2        44.0\n",
              "3       608.0\n",
              "4       196.0\n",
              "        ...  \n",
              "6113     15.0\n",
              "6114    406.0\n",
              "6115     51.0\n",
              "6116     16.0\n",
              "6117    284.0\n",
              "Name: Number of Beds, Length: 6087, dtype: float64"
            ]
          },
          "metadata": {},
          "execution_count": 14
        }
      ]
    },
    {
      "cell_type": "markdown",
      "source": [
        "# Automated Analysis"
      ],
      "metadata": {
        "id": "iH1mLvQwL8NW"
      }
    },
    {
      "cell_type": "code",
      "source": [
        "import pandas as pd\n",
        "!pip install pandas-profiling\n",
        "from pandas_profiling import ProfileReport\n",
        "df = pd.read_csv('https://raw.githubusercontent.com/hantswilliams/HHA_507_2023/main/WK2/data/Hospital_Cost_Report_2019.csv')\n",
        "\n",
        "# Generate the EDA report\n",
        "report = ProfileReport(df.sample(1))\n",
        "report.to_file('eda_report.html')\n",
        "\n",
        "\n"
      ],
      "metadata": {
        "id": "_fa33c1JMAUd"
      },
      "execution_count": null,
      "outputs": []
    }
  ]
}